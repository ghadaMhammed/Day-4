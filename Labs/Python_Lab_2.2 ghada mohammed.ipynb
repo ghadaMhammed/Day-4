{
 "cells": [
  {
   "cell_type": "markdown",
   "metadata": {
    "id": "E9Y5ss1ZYj3r"
   },
   "source": [
    "# Python_Lab_2.2\n"
   ]
  },
  {
   "cell_type": "markdown",
   "metadata": {
    "id": "Q1kAqc72Yj3t"
   },
   "source": [
    "### Task 1\n",
    "1. Write a program that prompts the user to enter two numbers and prints their division. Handle cases where the user enters non-numeric values or attempts to divide by zero using a try-except block.\n"
   ]
  },
  {
   "cell_type": "code",
   "execution_count": 7,
   "metadata": {
    "id": "H-xyoRTVYj3t"
   },
   "outputs": [
    {
     "name": "stdin",
     "output_type": "stream",
     "text": [
      "Enter the first number:  1\n",
      "Enter the second number:  0\n"
     ]
    },
    {
     "name": "stdout",
     "output_type": "stream",
     "text": [
      "Error: Cannot divide by zero.\n"
     ]
    }
   ],
   "source": [
    "# write your code here ^_^\n",
    "try:\n",
    "  num1 = int(input(\"Enter the first number: \"))\n",
    "  num2 = int(input(\"Enter the second number: \"))\n",
    "  result = num1 / num2\n",
    "  print(\"The result of the division is:\", result)\n",
    "except ValueError:\n",
    "  print(\"Invalid input. Please enter numeric values.\")\n",
    "except ZeroDivisionError:\n",
    "  print(\"Error: Cannot divide by zero.\")"
   ]
  },
  {
   "cell_type": "markdown",
   "metadata": {
    "id": "CPWcDSC_Yj3u"
   },
   "source": [
    "### Task 2\n",
    "- Use \"Random\" library to do the following:\n",
    "    1. Create a list of random numbers using list comprehension.\n",
    "    2. Create a list of squares of the even numbers from random numbers using list comprehension.\n",
    "    3. Create a list of tuples (number, square) for random numbers using list comprehension."
   ]
  },
  {
   "cell_type": "code",
   "execution_count": 21,
   "metadata": {
    "id": "Yfq-i6CeYj3u"
   },
   "outputs": [
    {
     "name": "stdout",
     "output_type": "stream",
     "text": [
      "[40, 29, 22, 84, 8, 80, 73, 81, 82, 66]\n",
      "squares_of_even_numbers [1600, 484, 7056, 64, 6400, 6724, 4356]\n",
      "number_square_tuples [(40, 1600), (29, 841), (22, 484), (84, 7056), (8, 64), (80, 6400), (73, 5329), (81, 6561), (82, 6724), (66, 4356)]\n"
     ]
    }
   ],
   "source": [
    "# write your code here ^_^\n",
    "import random\n",
    "random_numbers = [random.randint(1, 100) for i in range(10)]\n",
    "print(random_numbers)\n",
    "squares_of_even_numbers = [num ** 2 for num in random_numbers if num % 2 == 0]\n",
    "print(\"squares_of_even_numbers \" + str(squares_of_even_numbers))\n",
    "number_square_tuples = [(num, num ** 2) for num in random_numbers]\n",
    "print(\"number_square_tuples \" + str(number_square_tuples))"
   ]
  },
  {
   "cell_type": "markdown",
   "metadata": {
    "id": "jYdOq46NYj3u"
   },
   "source": [
    "### Task 3\n",
    "- Create a dictionary where the keys are numbers from 1 to 5 and the values are list of their squares and cubes.\n",
    "\n",
    "  - **hint**: use dictionary of list comprehension.\n",
    "\n",
    "- Create a dictionary from two lists (one with keys and one with values) using dictionary comprehension.\n",
    "\n"
   ]
  },
  {
   "cell_type": "code",
   "execution_count": 25,
   "metadata": {
    "id": "IEnsiNmCYj3u"
   },
   "outputs": [
    {
     "name": "stdout",
     "output_type": "stream",
     "text": [
      "number_powers using list comprehension{1: [1, 1], 2: [4, 8], 3: [9, 27], 4: [16, 64], 5: [25, 125]}\n",
      "my_dict using dictionary comprehension{'a': 1, 'b': 2, 'c': 3}\n"
     ]
    }
   ],
   "source": [
    "# write your code here ^_^\n",
    "number_powers = {\n",
    "    x: [x**2, x**3] for x in range(1, 6)\n",
    "}\n",
    "\n",
    "print(\"number_powers using list comprehension\" + str(number_powers))\n",
    "keys = ['a', 'b', 'c']\n",
    "values = [1, 2, 3]\n",
    "my_dict = {k: v for k, v in zip(keys, values)}\n",
    "print(\"my_dict using dictionary comprehension\" + str(my_dict))"
   ]
  },
  {
   "cell_type": "markdown",
   "metadata": {
    "id": "6T9TCQ8SYj3v"
   },
   "source": [
    "### Task 4\n",
    "- Given a dictionary where keys are student names and values are lists of their scores, write a function that updates the scores of students who have achieved a perfect score (100) by adding a bonus of 5 points to each score. Use dictionary comprehension to achieve this.\n",
    "\n",
    "    - Implement the function add_bonus_to_perfect_scores(student_scores) that adds a bonus of 5 points to each score of students who have achieved a perfect score (100)."
   ]
  },
  {
   "cell_type": "code",
   "execution_count": 27,
   "metadata": {
    "id": "T3R_VsQpYj3v"
   },
   "outputs": [
    {
     "name": "stdout",
     "output_type": "stream",
     "text": [
      "{'Ali': [85, 92, 105], 'Khaled': [90, 95, 88], 'Omar': [78, 89, 105], 'Fatima': [95, 98, 92], 'Sara': [105, 105, 98]}\n"
     ]
    }
   ],
   "source": [
    "# write your code here ^_^\n",
    "student_scores = {\n",
    "    \"Ali\": [85, 92, 100],\n",
    "    \"Khaled\": [90, 95, 88],\n",
    "    \"Omar\": [78, 89, 100],\n",
    "    \"Fatima\": [95, 98, 92],\n",
    "    \"Sara\": [100, 100, 98],\n",
    "}\n",
    "def add_bonus_to_perfect_scores(student_scores):\n",
    "  updated_scores = {\n",
    "      student: [score + 5 if score == 100 else score for score in scores]\n",
    "      for student, scores in student_scores.items()\n",
    "  }\n",
    "  return updated_scores\n",
    "\n",
    "print(add_bonus_to_perfect_scores(student_scores))"
   ]
  }
 ],
 "metadata": {
  "colab": {
   "provenance": []
  },
  "kernelspec": {
   "display_name": "Python 3 (ipykernel)",
   "language": "python",
   "name": "python3"
  },
  "language_info": {
   "codemirror_mode": {
    "name": "ipython",
    "version": 3
   },
   "file_extension": ".py",
   "mimetype": "text/x-python",
   "name": "python",
   "nbconvert_exporter": "python",
   "pygments_lexer": "ipython3",
   "version": "3.12.4"
  }
 },
 "nbformat": 4,
 "nbformat_minor": 4
}
