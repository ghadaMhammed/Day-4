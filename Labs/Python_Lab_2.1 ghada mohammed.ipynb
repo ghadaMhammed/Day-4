{
 "cells": [
  {
   "cell_type": "markdown",
   "metadata": {
    "id": "x7F-mxeubDUG"
   },
   "source": [
    "# Python_Lab_2.1\n"
   ]
  },
  {
   "cell_type": "markdown",
   "metadata": {
    "id": "14c6Hn1BbDUH"
   },
   "source": [
    "### Task 1\n",
    "1. Write a function named is_prime that takes a number as a parameter and returns True if the number is prime and False otherwise. Print whether the number 29 is prime."
   ]
  },
  {
   "cell_type": "code",
   "execution_count": 25,
   "metadata": {
    "id": "5e_MZEN0bDUI"
   },
   "outputs": [
    {
     "name": "stdout",
     "output_type": "stream",
     "text": [
      "True\n"
     ]
    }
   ],
   "source": [
    "# write your code here ^_^\n",
    "def is_prime(num):\n",
    "    for n in range(2,int(num**0.5)+1):\n",
    "      if num%n==0:\n",
    "        return False\n",
    "      return True\n",
    "print(is_prime(29))"
   ]
  },
  {
   "cell_type": "markdown",
   "metadata": {
    "id": "2zKG8ZcybDUI"
   },
   "source": [
    "### Task 2\n",
    "1. Create a list of 10 numbers and sort them in descending order using the sort() function.\n",
    "2. Use the len() function to print the length of the sorted list.\n",
    "3. Use the zip() function to combine three lists (names, ages, and cities) into a list of tuples.\n",
    "4. Use the range() function to create a list of even numbers from 2 to 20 and print the list."
   ]
  },
  {
   "cell_type": "code",
   "execution_count": 27,
   "metadata": {
    "id": "yyoe__M_bDUI"
   },
   "outputs": [
    {
     "name": "stdout",
     "output_type": "stream",
     "text": [
      "length of descending order list is: 10\n",
      "[('mohammed', 21, 'riyadh'), ('arwa', 13, 'dammam'), ('ali', 23, 'jeddah'), ('sara', 30, 'riyadh')]\n",
      " list of even numbers from 2 to 20: \n",
      "[2, 4, 6, 8, 10, 12, 14, 16, 18, 20]\n"
     ]
    }
   ],
   "source": [
    "# write your code here ^_^\n",
    "list_num = [1,2,3,4,5,6,7,8,9,10]\n",
    "list_num.sort(reverse=True)\n",
    "print(\"length of descending order list is: \"+ str(len(list_num)))\n",
    "list_names = [\"mohammed\",\"arwa\",\"ali\",\"sara\"]\n",
    "list_ages = [21,13,23,30]\n",
    "list_cities = [\"riyadh\",\"dammam\",\"jeddah\",\"riyadh\"]\n",
    "list_zip = list(zip(list_names,list_ages,list_cities))\n",
    "print(list_zip)\n",
    "list_range = list(range(2,21,2))\n",
    "print(\" list of even numbers from 2 to 20: \" +\"\\n\"+ str(list_range))\n"
   ]
  },
  {
   "cell_type": "markdown",
   "metadata": {
    "id": "aStW5p7AbDUI"
   },
   "source": [
    "### Task 3\n",
    "Build a phone book program that receives the phone number, and returns the name of the owner.\n",
    "You can follow the table below:\n",
    "\n",
    "| Name     | Number     |\n",
    "| -------- | ---------- |\n",
    "| Amal     | 1111111111 |\n",
    "| Mohammed | 2222222222 |\n",
    "| Khadijah | 3333333333 |\n",
    "| Abdullah | 4444444444 |\n",
    "| Rawan    | 5555555555 |\n",
    "| Faisal   | 6666666666 |\n",
    "| Layla    | 7777777777 |\n",
    "\n",
    "- If the number exists, print the owner. Otherwise, print \"Sorry, the number is not found\".\n",
    "- If the number is less or more than 10 numbers, print \"This is invalid number\".\n",
    "- If the number contains letters or symbols, print \"This is invalid number\".\n"
   ]
  },
  {
   "cell_type": "code",
   "execution_count": 29,
   "metadata": {
    "id": "kvXmjUe-bDUJ"
   },
   "outputs": [
    {
     "name": "stdin",
     "output_type": "stream",
     "text": [
      "Enter a phone number:  7777\n"
     ]
    },
    {
     "name": "stdout",
     "output_type": "stream",
     "text": [
      "This is invalid number\n",
      "Sorry, the number is not found\n"
     ]
    }
   ],
   "source": [
    "# write your code here ^_^\n",
    "phone_book = {\n",
    "    \"1111111111\": \"Amal\",\n",
    "    \"2222222222\": \"Mohammed\",\n",
    "    \"3333333333\": \"Khadijah\",\n",
    "    \"4444444444\": \"Abdullah\",\n",
    "    \"5555555555\": \"Rawan\",\n",
    "    \"6666666666\": \"Faisal\",\n",
    "    \"7777777777\": \"Layla\"\n",
    "}\n",
    "\n",
    "def find_owner(number):\n",
    "  if not number.isdigit() or len(number) != 10:\n",
    "    print(\"This is invalid number\")\n",
    "\n",
    "  if number in phone_book:\n",
    "    print(phone_book[number])\n",
    "  else:\n",
    "    print(\"Sorry, the number is not found\")\n",
    "\n",
    "number = input(\"Enter a phone number: \")\n",
    "find_owner(number)"
   ]
  },
  {
   "cell_type": "markdown",
   "metadata": {
    "id": "exLHQ28nbDUJ"
   },
   "source": [
    "### Task 4\n",
    "- Given the following list : [5, 4, 17, 19, 30, 2, 7, 10, 45]\n",
    "    1. Use a lambda function to filter out only the odd numbers.\n",
    "    2. Print the new list of odd numbers."
   ]
  },
  {
   "cell_type": "code",
   "execution_count": 31,
   "metadata": {
    "id": "64SUsh1cbDUJ"
   },
   "outputs": [
    {
     "name": "stdout",
     "output_type": "stream",
     "text": [
      "[5, 17, 19, 7, 45]\n"
     ]
    }
   ],
   "source": [
    "# write your code here ^_^\n",
    "list_num = [5, 4, 17, 19, 30, 2, 7, 10, 45]\n",
    "odd_numbers = list(filter(lambda x: x % 2 != 0, list_num))\n",
    "print(odd_numbers)"
   ]
  }
 ],
 "metadata": {
  "colab": {
   "provenance": []
  },
  "kernelspec": {
   "display_name": "Python 3 (ipykernel)",
   "language": "python",
   "name": "python3"
  },
  "language_info": {
   "codemirror_mode": {
    "name": "ipython",
    "version": 3
   },
   "file_extension": ".py",
   "mimetype": "text/x-python",
   "name": "python",
   "nbconvert_exporter": "python",
   "pygments_lexer": "ipython3",
   "version": "3.12.4"
  }
 },
 "nbformat": 4,
 "nbformat_minor": 4
}
